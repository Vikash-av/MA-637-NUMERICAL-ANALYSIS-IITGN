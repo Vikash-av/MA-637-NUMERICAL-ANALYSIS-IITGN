{
  "nbformat": 4,
  "nbformat_minor": 0,
  "metadata": {
    "colab": {
      "provenance": [],
      "authorship_tag": "ABX9TyPhNeprwgwPyWd59Te72ptR",
      "include_colab_link": true
    },
    "kernelspec": {
      "name": "python3",
      "display_name": "Python 3"
    },
    "language_info": {
      "name": "python"
    }
  },
  "cells": [
    {
      "cell_type": "markdown",
      "metadata": {
        "id": "view-in-github",
        "colab_type": "text"
      },
      "source": [
        "<a href=\"https://colab.research.google.com/github/Vikash-av/MA-637-NUMERICAL-ANALYSIS-IITGN/blob/main/Assignment_7_(qno4).ipynb\" target=\"_parent\"><img src=\"https://colab.research.google.com/assets/colab-badge.svg\" alt=\"Open In Colab\"/></a>"
      ]
    },
    {
      "cell_type": "code",
      "execution_count": null,
      "metadata": {
        "id": "o2rVIzG4049y"
      },
      "outputs": [],
      "source": []
    },
    {
      "cell_type": "code",
      "source": [
        "import numpy as np\n",
        "\n",
        "# Right hand side of the function\n",
        "def f(t, y):\n",
        "    # FITB\n",
        "    return -(t**2) + y +1\n",
        "\n",
        "# Derivative of f(t,y)\n",
        "def first_der_f(t, y):\n",
        "    # FITB\n",
        "    return -2*t - (t**2) + y +1\n",
        "\n",
        "# 2nd Derivative of f(t,y)\n",
        "def sec_der_f(t, y):\n",
        "    # FITB\n",
        "    return -2-2*t-(t**2)+y+1\n",
        "\n",
        "def known_sol(t):\n",
        "    # FITB\n",
        "    return ((t+1)**2)-0.5*(np.exp(t))\n",
        "\n",
        "if __name__ == \"__main__\":\n",
        "    # Set precision for printing\n",
        "    np.set_printoptions(precision=5, suppress=True)\n",
        "    # Interval at which the IVP is defined\n",
        "    # FITB\n",
        "    a = 0\n",
        "    b = 2\n",
        "\n",
        "    # Order of Taylor polynomial\n",
        "    order = 2\n",
        "\n",
        "    # FITB\n",
        "    if (order > 3):\n",
        "        print(f\"Current order : {order} not implemented!\")\n",
        "        exit()\n",
        "\n",
        "    # Step Size\n",
        "    h = 0.4\n",
        "\n",
        "    # Mesh Points\n",
        "    number_points = int((b-a) / h)+1\n",
        "    # Create a mesh\n",
        "    ti = np.linspace(a, b, number_points)\n",
        "\n",
        "    print(f\"Number of Points : {number_points}\")\n",
        "    print(f\"h                : {h}\")\n",
        "\n",
        "    # Solution Vector\n",
        "    # FITB\n",
        "    y_h = np.zeros(number_points)\n",
        "\n",
        "    # Initial Condition\n",
        "    initial_cond = 0.5\n",
        "    y_h[0] = initial_cond\n",
        "\n",
        "    # Initial time\n",
        "    # FITB\n",
        "    t = 0\n",
        "\n",
        "    print(f\"t[0] : {ti[0]:.2f}, y_h[0] : {y_h[0]:.6f}, y[0] : {known_sol(0):.6f}, Error : {np.abs(known_sol(ti[0])-y_h[0]):.6f}\")\n",
        "    for i in range(1, number_points):\n",
        "        taylor_term = 0\n",
        "        if order == 1:\n",
        "            # FITB\n",
        "            taylor_term = f(ti[i-1],y_h[i-1])\n",
        "        elif order == 2:\n",
        "            # FITB\n",
        "            taylor_term =f(ti[i-1],y_h[i-1]) + (h)/2 *(first_der_f(ti[i-1],y_h[i-1]))\n",
        "        elif order == 3:\n",
        "            # FITB*\n",
        "            taylor_term = f(ti[i-1],y_h[i-1]) + (h)/2 *(first_der_f(ti[i-1],y_h[i-1])) + (h**2)/6 *(sec_der_f(ti[i-1],y_h[i-1]))\n",
        "\n",
        "        # FITB\n",
        "        y_h[i] = y_h[i-1]+ h* taylor_term\n",
        "\n",
        "        solution = known_sol(ti[i])\n",
        "        # FITB\n",
        "        error =  np.abs(y_h[i] - solution)\n",
        "        print(f\"t[{i}] : {ti[i]:.2f}, y_h[{i}] : {y_h[i]:.6f}, y[{i}] : {solution:.6f}, Error : {error:.6f}\")"
      ],
      "metadata": {
        "colab": {
          "base_uri": "https://localhost:8080/"
        },
        "id": "53fURbSmlQyC",
        "outputId": "9510ea63-f3b2-4a88-af71-8968cfab1072"
      },
      "execution_count": 2,
      "outputs": [
        {
          "output_type": "stream",
          "name": "stdout",
          "text": [
            "Number of Points : 6\n",
            "h                : 0.4\n",
            "t[0] : 0.00, y_h[0] : 0.500000, y[0] : 0.500000, Error : 0.000000\n",
            "t[1] : 0.40, y_h[1] : 1.220000, y[1] : 1.214088, Error : 0.005912\n",
            "t[2] : 0.80, y_h[2] : 2.144800, y[2] : 2.127230, Error : 0.017570\n",
            "t[3] : 1.20, y_h[3] : 3.219104, y[3] : 3.179942, Error : 0.039162\n",
            "t[4] : 1.60, y_h[4] : 4.361074, y[4] : 4.283484, Error : 0.077590\n",
            "t[5] : 2.00, y_h[5] : 5.449589, y[5] : 5.305472, Error : 0.144117\n"
          ]
        }
      ]
    }
  ]
}